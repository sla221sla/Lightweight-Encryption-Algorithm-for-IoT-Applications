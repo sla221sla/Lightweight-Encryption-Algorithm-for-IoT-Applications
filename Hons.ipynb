{
 "cells": [
  {
   "cell_type": "code",
   "execution_count": 1,
   "metadata": {},
   "outputs": [],
   "source": [
    "def hex2bin(val):\n",
    "    n = int(val, 16) \n",
    "    bStr = ''\n",
    "    while n > 0:\n",
    "        bStr = str(n % 2) + bStr\n",
    "        n = n >> 1    \n",
    "    return bStr"
   ]
  },
  {
   "cell_type": "code",
   "execution_count": 2,
   "metadata": {},
   "outputs": [],
   "source": [
    "def rubix(k, k5, num):\n",
    "    \n",
    "    k51 = k5[0:16]\n",
    "    k52 = k5[16:32]\n",
    "    k53 = k5[32:48]\n",
    "    k54 = k5[48:64]\n",
    "    \n",
    "    new_list = k[:]\n",
    "    \n",
    "    if(num == 1):\n",
    "        l = 0\n",
    "        for i in k51:\n",
    "            if(l%3 == 0):\n",
    "                if(i == \"0\" or i == \"4\" or i == \"8\" or i == \"c\"):\n",
    "                    pass\n",
    "                elif(i == \"1\" or i == \"7\"):\n",
    "                    new_list[0], new_list[9] = new_list[9], new_list[0]\n",
    "                    new_list[1], new_list[10] = new_list[10], new_list[1]\n",
    "                    new_list[2], new_list[11] = new_list[11], new_list[2]\n",
    "                elif(i == \"2\" or i == \"6\"):\n",
    "                    new_list[0], new_list[15] = new_list[15], new_list[0]\n",
    "                    new_list[1], new_list[19] = new_list[19], new_list[1]\n",
    "                    new_list[2], new_list[20] = new_list[20], new_list[2]\n",
    "                elif(i == \"3\" or i == \"5\"):    \n",
    "                    new_list[0], new_list[27] = new_list[27], new_list[0]\n",
    "                    new_list[1], new_list[28] = new_list[28], new_list[1]\n",
    "                    new_list[2], new_list[29] = new_list[29], new_list[2]\n",
    "                elif(i == \"9\" or i == \"f\"):\n",
    "                    new_list[0], new_list[45] = new_list[45], new_list[0]\n",
    "                    new_list[3], new_list[48] = new_list[48], new_list[3]\n",
    "                    new_list[6], new_list[51] = new_list[51], new_list[6]\n",
    "                elif(i == \"a\" or i == \"e\"):\n",
    "                    new_list[0], new_list[26] = new_list[26], new_list[0]\n",
    "                    new_list[3], new_list[23] = new_list[23], new_list[3]\n",
    "                    new_list[6], new_list[20] = new_list[20], new_list[6]\n",
    "                elif(i == \"b\" or i == \"d\"):    \n",
    "                    new_list[0], new_list[36] = new_list[36], new_list[0]\n",
    "                    new_list[3], new_list[39] = new_list[39], new_list[3]\n",
    "                    new_list[6], new_list[42] = new_list[42], new_list[6]\n",
    "                                          \n",
    "                                        \n",
    "            elif(l%3 == 1):      \n",
    "                if(i == \"0\" or i == \"4\" or i == \"8\" or i == \"c\"):\n",
    "                    pass\n",
    "                elif(i == \"1\" or i == \"7\"):\n",
    "                    new_list[3], new_list[12] = new_list[12], new_list[3]\n",
    "                    new_list[4], new_list[13] = new_list[13], new_list[4]\n",
    "                    new_list[5], new_list[14] = new_list[14], new_list[5]\n",
    "                elif(i == \"2\" or i == \"6\"):\n",
    "                    new_list[3], new_list[21] = new_list[21], new_list[3]\n",
    "                    new_list[4], new_list[22] = new_list[22], new_list[4]\n",
    "                    new_list[5], new_list[23] = new_list[23], new_list[5]\n",
    "                elif(i == \"3\" or i == \"5\"):    \n",
    "                    new_list[3], new_list[30] = new_list[30], new_list[3]\n",
    "                    new_list[4], new_list[31] = new_list[31], new_list[4]\n",
    "                    new_list[5], new_list[32] = new_list[32], new_list[5]\n",
    "                elif(i == \"9\" or i == \"f\"):\n",
    "                    new_list[1], new_list[46] = new_list[46], new_list[1]\n",
    "                    new_list[4], new_list[49] = new_list[49], new_list[4]\n",
    "                    new_list[7], new_list[52] = new_list[52], new_list[7]\n",
    "                elif(i == \"a\" or i == \"e\"):\n",
    "                    new_list[1], new_list[25] = new_list[25], new_list[1]\n",
    "                    new_list[4], new_list[22] = new_list[22], new_list[4]\n",
    "                    new_list[7], new_list[19] = new_list[19], new_list[7]\n",
    "                elif(i == \"b\" or i == \"d\"):    \n",
    "                    new_list[1], new_list[37] = new_list[37], new_list[1]\n",
    "                    new_list[4], new_list[40] = new_list[40], new_list[4]\n",
    "                    new_list[7], new_list[43] = new_list[43], new_list[7]\n",
    "                    \n",
    "            elif(l%3 == 2):          \n",
    "                if(i == \"0\" or i == \"4\" or i == \"8\" or i == \"c\"):\n",
    "                    pass\n",
    "                elif(i == \"1\" or i == \"7\"):\n",
    "                    new_list[6], new_list[15] = new_list[15], new_list[6]\n",
    "                    new_list[7], new_list[16] = new_list[16], new_list[7]\n",
    "                    new_list[8], new_list[17] = new_list[17], new_list[8]\n",
    "                elif(i == \"2\" or i == \"6\"):\n",
    "                    new_list[6], new_list[24] = new_list[24], new_list[6]\n",
    "                    new_list[7], new_list[25] = new_list[25], new_list[7]\n",
    "                    new_list[8], new_list[26] = new_list[26], new_list[8]\n",
    "                elif(i == \"3\" or i == \"5\"):    \n",
    "                    new_list[6], new_list[33] = new_list[33], new_list[6]\n",
    "                    new_list[7], new_list[34] = new_list[34], new_list[7]\n",
    "                    new_list[8], new_list[35] = new_list[35], new_list[8]\n",
    "                elif(i == \"9\" or i == \"f\"):\n",
    "                    new_list[2], new_list[47] = new_list[47], new_list[2]\n",
    "                    new_list[5], new_list[50] = new_list[50], new_list[5]\n",
    "                    new_list[8], new_list[53] = new_list[53], new_list[8]\n",
    "                elif(i == \"a\" or i == \"e\"):\n",
    "                    new_list[2], new_list[24] = new_list[24], new_list[2]\n",
    "                    new_list[5], new_list[21] = new_list[21], new_list[5]\n",
    "                    new_list[8], new_list[18] = new_list[18], new_list[8]\n",
    "                elif(i == \"b\" or i == \"d\"):    \n",
    "                    new_list[2], new_list[38] = new_list[38], new_list[2]\n",
    "                    new_list[5], new_list[41] = new_list[41], new_list[5]\n",
    "                    new_list[8], new_list[44] = new_list[44], new_list[8]\n",
    "            l = l+1\n",
    "            \n",
    "        l = 0           \n",
    "        for i in k52:\n",
    "            if(l%3 == 0):\n",
    "                if(i == \"0\" or i == \"4\" or i == \"8\" or i == \"c\"):\n",
    "                    pass\n",
    "                elif(i == \"1\" or i == \"7\"):\n",
    "                    new_list[10], new_list[19] = new_list[19], new_list[10]\n",
    "                    new_list[11], new_list[20] = new_list[20], new_list[11]\n",
    "                    new_list[12], new_list[21] = new_list[21], new_list[12]\n",
    "                    \n",
    "                elif(i == \"2\" or i == \"6\"):\n",
    "                    new_list[10], new_list[28] = new_list[28], new_list[10]\n",
    "                    new_list[11], new_list[29] = new_list[29], new_list[11]\n",
    "                    new_list[12], new_list[30] = new_list[30], new_list[12]\n",
    "                    \n",
    "                elif(i == \"3\" or i == \"5\"):   \n",
    "                    new_list[10], new_list[37] = new_list[37], new_list[10]\n",
    "                    new_list[11], new_list[38] = new_list[38], new_list[11]\n",
    "                    new_list[12], new_list[39] = new_list[39], new_list[12]\n",
    "\n",
    "                elif(i == \"9\" or i == \"f\"):\n",
    "                    new_list[10], new_list[55] = new_list[55], new_list[10]\n",
    "                    new_list[13], new_list[58] = new_list[58], new_list[13]\n",
    "                    new_list[16], new_list[61] = new_list[61], new_list[16]\n",
    "\n",
    "                elif(i == \"a\" or i == \"e\"):\n",
    "                    new_list[10], new_list[36] = new_list[36], new_list[10]\n",
    "                    new_list[13], new_list[33] = new_list[33], new_list[13]\n",
    "                    new_list[16], new_list[30] = new_list[30], new_list[16]\n",
    "                    \n",
    "                elif(i == \"b\" or i == \"d\"):\n",
    "                    new_list[10], new_list[46] = new_list[46], new_list[10]\n",
    "                    new_list[13], new_list[49] = new_list[49], new_list[13]\n",
    "                    new_list[16], new_list[52] = new_list[52], new_list[16]\n",
    "                    \n",
    "            elif(l%3 == 1):      \n",
    "                if(i == \"0\" or i == \"4\" or i == \"8\" or i == \"c\"):\n",
    "                    pass\n",
    "                elif(i == \"1\" or i == \"7\"):\n",
    "                    new_list[13], new_list[22] = new_list[22], new_list[10]\n",
    "                    new_list[14], new_list[23] = new_list[23], new_list[11]\n",
    "                    new_list[15], new_list[24] = new_list[24], new_list[12]\n",
    "                    \n",
    "                elif(i == \"2\" or i == \"6\"):\n",
    "                    new_list[13], new_list[31] = new_list[31], new_list[13]\n",
    "                    new_list[14], new_list[32] = new_list[32], new_list[14]\n",
    "                    new_list[15], new_list[33] = new_list[33], new_list[15]\n",
    "                    \n",
    "                elif(i == \"3\" or i == \"5\"):    \n",
    "                    new_list[13], new_list[40] = new_list[40], new_list[13]\n",
    "                    new_list[14], new_list[41] = new_list[41], new_list[14]\n",
    "                    new_list[15], new_list[42] = new_list[42], new_list[15]\n",
    "                    \n",
    "                elif(i == \"9\" or i == \"f\"):\n",
    "                    new_list[11], new_list[56] = new_list[56], new_list[10]\n",
    "                    new_list[14], new_list[59] = new_list[59], new_list[11]\n",
    "                    new_list[17], new_list[62] = new_list[62], new_list[12]\n",
    "                    \n",
    "                elif(i == \"a\" or i == \"e\"):\n",
    "                    new_list[11], new_list[35] = new_list[35], new_list[10]\n",
    "                    new_list[14], new_list[32] = new_list[32], new_list[11]\n",
    "                    new_list[17], new_list[29] = new_list[29], new_list[12]\n",
    "                    \n",
    "                elif(i == \"b\" or i == \"d\"):    \n",
    "                    new_list[11], new_list[47] = new_list[47], new_list[10]\n",
    "                    new_list[14], new_list[50] = new_list[50], new_list[11]\n",
    "                    new_list[17], new_list[53] = new_list[53], new_list[12]\n",
    "                    \n",
    "            elif(l%3 == 2):          \n",
    "                if(i == \"0\" or i == \"4\" or i == \"8\" or i == \"c\"):\n",
    "                    pass\n",
    "                elif(i == \"1\" or i == \"7\"):\n",
    "                    new_list[16], new_list[25] = new_list[25], new_list[16]\n",
    "                    new_list[17], new_list[26] = new_list[26], new_list[17]\n",
    "                    new_list[18], new_list[27] = new_list[27], new_list[18]\n",
    "                    \n",
    "                elif(i == \"2\" or i == \"6\"):\n",
    "                    new_list[16], new_list[34] = new_list[34], new_list[16]\n",
    "                    new_list[17], new_list[35] = new_list[35], new_list[17]\n",
    "                    new_list[18], new_list[36] = new_list[36], new_list[18]\n",
    "                \n",
    "                elif(i == \"3\" or i == \"5\"):   \n",
    "                    new_list[16], new_list[43] = new_list[43], new_list[16]\n",
    "                    new_list[17], new_list[44] = new_list[44], new_list[17]\n",
    "                    new_list[18], new_list[45] = new_list[45], new_list[18]\n",
    "                    \n",
    "                elif(i == \"9\" or i == \"f\"):\n",
    "                    new_list[12], new_list[57] = new_list[57], new_list[12]\n",
    "                    new_list[15], new_list[60] = new_list[60], new_list[15]\n",
    "                    new_list[18], new_list[63] = new_list[63], new_list[18]\n",
    "                    \n",
    "                elif(i == \"a\" or i == \"e\"):\n",
    "                    new_list[12], new_list[34] = new_list[34], new_list[12]\n",
    "                    new_list[15], new_list[31] = new_list[31], new_list[15]\n",
    "                    new_list[18], new_list[28] = new_list[28], new_list[18]\n",
    "                    \n",
    "                elif(i == \"b\" or i == \"d\"):   \n",
    "                    new_list[12], new_list[48] = new_list[48], new_list[12]\n",
    "                    new_list[15], new_list[51] = new_list[51], new_list[15]\n",
    "                    new_list[18], new_list[54] = new_list[54], new_list[18]\n",
    "            l = l+1\n",
    "                    \n",
    "            for i in [0, 10, 19, 28, 37, 46, 55]:\n",
    "                if new_list[i] == \"0\":\n",
    "                    new_list[i] = \"8\"\n",
    "                elif new_list[i] == \"1\":\n",
    "                    new_list[i] = \"9\"\n",
    "                elif new_list[i] == \"2\":\n",
    "                    new_list[i] = \"a\"\n",
    "                elif new_list[i] == \"3\":\n",
    "                    new_list[i] = \"b\"\n",
    "                elif new_list[i] == \"4\":\n",
    "                    new_list[i] = \"c\"\n",
    "                elif new_list[i] == \"5\":\n",
    "                    new_list[i] = \"d\"\n",
    "                elif new_list[i] == \"6\":\n",
    "                    new_list[i] = \"e\"\n",
    "                elif new_list[i] == \"7\":\n",
    "                    new_list[i] = \"f\"\n",
    "                elif new_list[i] == \"f\":\n",
    "                    new_list[i] = \"7\"\n",
    "                elif new_list[i] == \"e\":\n",
    "                    new_list[i] = \"6\"\n",
    "                elif new_list[i] == \"d\":\n",
    "                    new_list[i] = \"5\"\n",
    "                elif new_list[i] == \"c\":\n",
    "                    new_list[i] = \"4\"\n",
    "                elif new_list[i] == \"b\":\n",
    "                    new_list[i] = \"3\"\n",
    "                elif new_list[i] == \"a\":\n",
    "                    new_list[i] = \"2\"\n",
    "                elif new_list[i] == \"9\":\n",
    "                    new_list[i] = \"1\"\n",
    "                elif new_list[i] == \"8\":\n",
    "                    new_list[i] = \"0\"\n",
    "                    \n",
    "                    \n",
    "            \n",
    "    elif(num == 2):\n",
    "        l = 0\n",
    "        for i in k53:\n",
    "            if(l%3 == 0):\n",
    "                if(i == \"0\" or i == \"4\" or i == \"8\" or i == \"c\"):\n",
    "                    pass\n",
    "                if(i == \"1\" or i == \"7\"):\n",
    "                    new_list[0], new_list[9] = new_list[9], new_list[0]\n",
    "                    new_list[1], new_list[10] = new_list[10], new_list[1]\n",
    "                    new_list[2], new_list[11] = new_list[11], new_list[2]\n",
    "                elif(i == \"2\" or i == \"6\"):\n",
    "                    new_list[0], new_list[15] = new_list[15], new_list[0]\n",
    "                    new_list[1], new_list[19] = new_list[19], new_list[1]\n",
    "                    new_list[2], new_list[20] = new_list[20], new_list[2]\n",
    "                elif(i == \"3\" or i == \"5\"):    \n",
    "                    new_list[0], new_list[27] = new_list[27], new_list[0]\n",
    "                    new_list[1], new_list[28] = new_list[28], new_list[1]\n",
    "                    new_list[2], new_list[29] = new_list[29], new_list[2]\n",
    "                elif(i == \"9\" or i == \"f\"):\n",
    "                    new_list[0], new_list[45] = new_list[45], new_list[0]\n",
    "                    new_list[3], new_list[48] = new_list[48], new_list[3]\n",
    "                    new_list[6], new_list[51] = new_list[51], new_list[6]\n",
    "                elif(i == \"a\" or i == \"e\"):\n",
    "                    new_list[0], new_list[26] = new_list[26], new_list[0]\n",
    "                    new_list[3], new_list[23] = new_list[23], new_list[3]\n",
    "                    new_list[6], new_list[20] = new_list[20], new_list[6]\n",
    "                elif(i == \"b\" or i == \"d\"):    \n",
    "                    new_list[0], new_list[36] = new_list[36], new_list[0]\n",
    "                    new_list[3], new_list[39] = new_list[39], new_list[3]\n",
    "                    new_list[6], new_list[42] = new_list[42], new_list[6]\n",
    "                                          \n",
    "                                        \n",
    "            elif(l%3 == 1):      \n",
    "                if(i == \"0\" or i == \"4\" or i == \"8\" or i == \"c\"):\n",
    "                    pass\n",
    "                if(i == \"1\" or i == \"7\"):\n",
    "                    new_list[3], new_list[12] = new_list[12], new_list[3]\n",
    "                    new_list[4], new_list[13] = new_list[13], new_list[4]\n",
    "                    new_list[5], new_list[14] = new_list[14], new_list[5]\n",
    "                elif(i == \"2\" or i == \"6\"):\n",
    "                    new_list[3], new_list[21] = new_list[21], new_list[3]\n",
    "                    new_list[4], new_list[22] = new_list[22], new_list[4]\n",
    "                    new_list[5], new_list[23] = new_list[23], new_list[5]\n",
    "                elif(i == \"3\" or i == \"5\"):    \n",
    "                    new_list[3], new_list[30] = new_list[30], new_list[3]\n",
    "                    new_list[4], new_list[31] = new_list[31], new_list[4]\n",
    "                    new_list[5], new_list[32] = new_list[32], new_list[5]\n",
    "                elif(i == \"9\" or i == \"f\"):\n",
    "                    new_list[1], new_list[46] = new_list[46], new_list[1]\n",
    "                    new_list[4], new_list[49] = new_list[49], new_list[4]\n",
    "                    new_list[7], new_list[52] = new_list[52], new_list[7]\n",
    "                elif(i == \"a\" or i == \"e\"):\n",
    "                    new_list[1], new_list[25] = new_list[25], new_list[1]\n",
    "                    new_list[4], new_list[22] = new_list[22], new_list[4]\n",
    "                    new_list[7], new_list[19] = new_list[19], new_list[7]\n",
    "                elif(i == \"b\" or i == \"d\"):    \n",
    "                    new_list[1], new_list[37] = new_list[37], new_list[1]\n",
    "                    new_list[4], new_list[40] = new_list[40], new_list[4]\n",
    "                    new_list[7], new_list[43] = new_list[43], new_list[7]\n",
    "                    \n",
    "            elif(l%3 == 2):          \n",
    "                if(i == \"0\" or i == \"4\" or i == \"8\" or i == \"c\"):\n",
    "                    pass\n",
    "                elif(i == \"1\" or i == \"7\"):\n",
    "                    new_list[6], new_list[15] = new_list[15], new_list[6]\n",
    "                    new_list[7], new_list[16] = new_list[16], new_list[7]\n",
    "                    new_list[8], new_list[17] = new_list[17], new_list[8]\n",
    "                elif(i == \"2\" or i == \"6\"):\n",
    "                    new_list[6], new_list[24] = new_list[24], new_list[6]\n",
    "                    new_list[7], new_list[25] = new_list[25], new_list[7]\n",
    "                    new_list[8], new_list[26] = new_list[26], new_list[8]\n",
    "                elif(i == \"3\" or i == \"5\"):    \n",
    "                    new_list[6], new_list[33] = new_list[33], new_list[6]\n",
    "                    new_list[7], new_list[34] = new_list[34], new_list[7]\n",
    "                    new_list[8], new_list[35] = new_list[35], new_list[8]\n",
    "                elif(i == \"9\" or i == \"f\"):\n",
    "                    new_list[2], new_list[47] = new_list[47], new_list[2]\n",
    "                    new_list[5], new_list[50] = new_list[50], new_list[5]\n",
    "                    new_list[8], new_list[53] = new_list[53], new_list[8]\n",
    "                elif(i == \"a\" or i == \"e\"):\n",
    "                    new_list[2], new_list[24] = new_list[24], new_list[2]\n",
    "                    new_list[5], new_list[21] = new_list[21], new_list[5]\n",
    "                    new_list[8], new_list[18] = new_list[18], new_list[8]\n",
    "                elif(i == \"b\" or i == \"d\"):    \n",
    "                    new_list[2], new_list[38] = new_list[38], new_list[2]\n",
    "                    new_list[5], new_list[41] = new_list[41], new_list[5]\n",
    "                    new_list[8], new_list[44] = new_list[44], new_list[8]\n",
    "            l = l+1\n",
    "            \n",
    "        l = 0            \n",
    "        for i in k54:\n",
    "            if(l%3 == 0):\n",
    "                if(i == \"0\" or i == \"4\" or i == \"8\" or i == \"c\"):\n",
    "                    pass\n",
    "                elif(i == \"1\" or i == \"7\"):\n",
    "                    new_list[10], new_list[19] = new_list[19], new_list[10]\n",
    "                    new_list[11], new_list[20] = new_list[20], new_list[11]\n",
    "                    new_list[12], new_list[21] = new_list[21], new_list[12]\n",
    "                    \n",
    "                elif(i == \"2\" or i == \"6\"):\n",
    "                    new_list[10], new_list[28] = new_list[28], new_list[10]\n",
    "                    new_list[11], new_list[29] = new_list[29], new_list[11]\n",
    "                    new_list[12], new_list[30] = new_list[30], new_list[12]\n",
    "                    \n",
    "                elif(i == \"3\" or i == \"5\"):   \n",
    "                    new_list[10], new_list[37] = new_list[37], new_list[10]\n",
    "                    new_list[11], new_list[38] = new_list[38], new_list[11]\n",
    "                    new_list[12], new_list[39] = new_list[39], new_list[12]\n",
    "\n",
    "                elif(i == \"9\" or i == \"f\"):\n",
    "                    new_list[10], new_list[55] = new_list[55], new_list[10]\n",
    "                    new_list[13], new_list[58] = new_list[58], new_list[13]\n",
    "                    new_list[16], new_list[61] = new_list[61], new_list[16]\n",
    "\n",
    "                elif(i == \"a\" or i == \"e\"):\n",
    "                    new_list[10], new_list[36] = new_list[36], new_list[10]\n",
    "                    new_list[13], new_list[33] = new_list[33], new_list[13]\n",
    "                    new_list[16], new_list[30] = new_list[30], new_list[16]\n",
    "                    \n",
    "                elif(i == \"b\" or i == \"d\"):\n",
    "                    new_list[10], new_list[46] = new_list[46], new_list[10]\n",
    "                    new_list[13], new_list[49] = new_list[49], new_list[13]\n",
    "                    new_list[16], new_list[52] = new_list[52], new_list[16]\n",
    "                    \n",
    "            elif(l%3 == 1):      \n",
    "                if(i == \"0\" or i == \"4\" or i == \"8\" or i == \"c\"):\n",
    "                    pass\n",
    "                elif(i == \"1\" or i == \"7\"):\n",
    "                    new_list[13], new_list[22] = new_list[22], new_list[10]\n",
    "                    new_list[14], new_list[23] = new_list[23], new_list[11]\n",
    "                    new_list[15], new_list[24] = new_list[24], new_list[12]\n",
    "                    \n",
    "                elif(i == \"2\" or i == \"6\"):\n",
    "                    new_list[13], new_list[31] = new_list[31], new_list[13]\n",
    "                    new_list[14], new_list[32] = new_list[32], new_list[14]\n",
    "                    new_list[15], new_list[33] = new_list[33], new_list[15]\n",
    "                    \n",
    "                elif(i == \"3\" or i == \"5\"):    \n",
    "                    new_list[13], new_list[40] = new_list[40], new_list[13]\n",
    "                    new_list[14], new_list[41] = new_list[41], new_list[14]\n",
    "                    new_list[15], new_list[42] = new_list[42], new_list[15]\n",
    "                    \n",
    "                elif(i == \"9\" or i == \"f\"):\n",
    "                    new_list[11], new_list[56] = new_list[56], new_list[10]\n",
    "                    new_list[14], new_list[59] = new_list[59], new_list[11]\n",
    "                    new_list[17], new_list[62] = new_list[62], new_list[12]\n",
    "                    \n",
    "                elif(i == \"a\" or i == \"e\"):\n",
    "                    new_list[11], new_list[35] = new_list[35], new_list[10]\n",
    "                    new_list[14], new_list[32] = new_list[32], new_list[11]\n",
    "                    new_list[17], new_list[29] = new_list[29], new_list[12]\n",
    "                    \n",
    "                elif(i == \"b\" or i == \"d\"):    \n",
    "                    new_list[11], new_list[47] = new_list[47], new_list[10]\n",
    "                    new_list[14], new_list[50] = new_list[50], new_list[11]\n",
    "                    new_list[17], new_list[53] = new_list[53], new_list[12]\n",
    "                    \n",
    "            elif(l%3 == 2):          \n",
    "                if(i == \"0\" or i == \"4\" or i == \"8\" or i == \"c\"):\n",
    "                    pass\n",
    "                elif(i == \"1\" or i == \"7\"):\n",
    "                    new_list[16], new_list[25] = new_list[25], new_list[16]\n",
    "                    new_list[17], new_list[26] = new_list[26], new_list[17]\n",
    "                    new_list[18], new_list[27] = new_list[27], new_list[18]\n",
    "                    \n",
    "                elif(i == \"2\" or i == \"6\"):\n",
    "                    new_list[16], new_list[34] = new_list[34], new_list[16]\n",
    "                    new_list[17], new_list[35] = new_list[35], new_list[17]\n",
    "                    new_list[18], new_list[36] = new_list[36], new_list[18]\n",
    "                \n",
    "                elif(i == \"3\" or i == \"5\"):   \n",
    "                    new_list[16], new_list[43] = new_list[43], new_list[16]\n",
    "                    new_list[17], new_list[44] = new_list[44], new_list[17]\n",
    "                    new_list[18], new_list[45] = new_list[45], new_list[18]\n",
    "                    \n",
    "                elif(i == \"9\" or i == \"f\"):\n",
    "                    new_list[12], new_list[57] = new_list[57], new_list[12]\n",
    "                    new_list[15], new_list[60] = new_list[60], new_list[15]\n",
    "                    new_list[18], new_list[63] = new_list[63], new_list[18]\n",
    "                    \n",
    "                elif(i == \"a\" or i == \"e\"):\n",
    "                    new_list[12], new_list[34] = new_list[34], new_list[12]\n",
    "                    new_list[15], new_list[31] = new_list[31], new_list[15]\n",
    "                    new_list[18], new_list[28] = new_list[28], new_list[18]\n",
    "                    \n",
    "                elif(i == \"b\" or i == \"d\"):   \n",
    "                    new_list[12], new_list[48] = new_list[48], new_list[12]\n",
    "                    new_list[15], new_list[51] = new_list[51], new_list[15]\n",
    "                    new_list[18], new_list[54] = new_list[54], new_list[18]\n",
    "            l = l+1\n",
    "                    \n",
    "            for i in [0, 10, 19, 28, 37, 46, 55]:\n",
    "                if new_list[i] == \"0\":\n",
    "                    new_list[i] = \"8\"\n",
    "                elif new_list[i] == \"1\":\n",
    "                    new_list[i] = \"9\"\n",
    "                elif new_list[i] == \"2\":\n",
    "                    new_list[i] = \"a\"\n",
    "                elif new_list[i] == \"3\":\n",
    "                    new_list[i] = \"b\"\n",
    "                elif new_list[i] == \"4\":\n",
    "                    new_list[i] = \"c\"\n",
    "                elif new_list[i] == \"5\":\n",
    "                    new_list[i] = \"d\"\n",
    "                elif new_list[i] == \"6\":\n",
    "                    new_list[i] = \"e\"\n",
    "                elif new_list[i] == \"7\":\n",
    "                    new_list[i] = \"f\"\n",
    "                elif new_list[i] == \"f\":\n",
    "                    new_list[i] = \"7\"\n",
    "                elif new_list[i] == \"e\":\n",
    "                    new_list[i] = \"6\"\n",
    "                elif new_list[i] == \"d\":\n",
    "                    new_list[i] = \"5\"\n",
    "                elif new_list[i] == \"c\":\n",
    "                    new_list[i] = \"4\"\n",
    "                elif new_list[i] == \"b\":\n",
    "                    new_list[i] = \"3\"\n",
    "                elif new_list[i] == \"a\":\n",
    "                    new_list[i] = \"2\"\n",
    "                elif new_list[i] == \"9\":\n",
    "                    new_list[i] = \"1\"\n",
    "                elif new_list[i] == \"8\":\n",
    "                    new_list[i] = \"0\"     \n",
    "    \n",
    "    mval = hex2bin(\"\".join(new_list))\n",
    "    pval = '{:016b}'.format((int(mval[0:64], 2)^int(mval[64:128], 2)^int(mval[128:192], 2)^int(mval[192:256], 2)))\n",
    "    kval = '{:016b}'.format((int(pval[0:16], 2)^int(pval[16:32], 2)^int(pval[32:48], 2)^int(pval[48:64], 2)))\n",
    "    return kval"
   ]
  },
  {
   "cell_type": "code",
   "execution_count": 3,
   "metadata": {},
   "outputs": [],
   "source": [
    "def key_gen(ssn_key):\n",
    "    ssn_key = list(session_key)\n",
    "    ssn_key1 = ssn_key[0:64]\n",
    "    ssn_key2 = ssn_key[64:128]\n",
    "    ssn_key3 = ssn_key[128:192]\n",
    "    ssn_key4 = ssn_key[192:256]\n",
    "    ssn_key5 = ssn_key[256:320]\n",
    "    k1 = rubix(ssn_key1, ssn_key5, 1)\n",
    "    k2 = rubix(ssn_key2, ssn_key5, 2)\n",
    "    k3 = rubix(ssn_key3, ssn_key5, 1)\n",
    "    k4 = rubix(ssn_key4, ssn_key5, 2)\n",
    "    pval = int(k1, 2)^int(k2, 2)^int(k3, 2)^int(k4,2)&int('1111111111111111',2)\n",
    "    k5 = '{:016b}'.format(pval)\n",
    "    return k1, k2, k3, k4, k5"
   ]
  },
  {
   "cell_type": "code",
   "execution_count": 4,
   "metadata": {},
   "outputs": [],
   "source": [
    "def P(I):\n",
    "    O=[]\n",
    "    if(I==['0', '0', '0', '0']):\n",
    "        O = ['0', '0', '1', '1'] \n",
    "    elif(I==['0', '0', '0', '1']):\n",
    "        O = ['1', '1', '1', '1'] \n",
    "    elif(I==['0', '0', '1', '0']):\n",
    "        O = ['1', '1', '1', '0']\n",
    "    elif(I==['0', '0', '1', '1']):\n",
    "        O = ['0', '0', '0', '0'] \n",
    "    elif(I==['0', '1', '0', '0']):\n",
    "        O = ['0', '1', '0', '1'] \n",
    "    elif(I==['0', '1', '0', '1']):\n",
    "        O = ['0', '1', '0', '0'] \n",
    "    elif(I==['0', '1', '1', '0']):\n",
    "        O = ['1', '0', '1', '1']   \n",
    "    elif(I==['0', '1', '1', '1']):\n",
    "        O = ['1', '1', '0', '0']   \n",
    "    elif(I==['1', '0', '0', '0']):\n",
    "        O = ['1', '1', '0', '1']   \n",
    "    elif(I==['1', '0', '0', '1']):\n",
    "        O = ['1', '0', '1', '0'] \n",
    "    elif(I==['1', '0', '1', '0']):\n",
    "        O = ['1', '0', '0', '1']   \n",
    "    elif(I==['1', '0', '1', '1']):\n",
    "        O = ['0', '1', '1', '0']    \n",
    "    elif(I==['1', '1', '0', '0']):\n",
    "        O = ['0', '1', '1', '1']   \n",
    "    elif(I==['1', '1', '0', '1']):\n",
    "        O = ['1', '0', '0', '0']   \n",
    "    elif(I==['1', '1', '1', '0']):\n",
    "        O = ['0', '0', '1', '0']   \n",
    "    elif(I==['1', '1', '1', '1']):\n",
    "        O = ['0', '0', '0', '1']\n",
    "    return O"
   ]
  },
  {
   "cell_type": "code",
   "execution_count": 5,
   "metadata": {},
   "outputs": [],
   "source": [
    "def Q(I):\n",
    "    O = []\n",
    "    if(I==['0', '0', '0', '0']):\n",
    "        O = ['1', '0', '0', '1']\n",
    "    elif(I==['0', '0', '0', '1']):\n",
    "        O = ['1', '1', '1', '0']\n",
    "    elif(I==['0', '0', '1', '0']):\n",
    "        O = ['0', '1', '0', '1']\n",
    "    elif(I==['0', '0', '1', '1']):\n",
    "        O = ['0', '1', '1', '0']\n",
    "    elif(I==['0', '1', '0', '0']):\n",
    "        O = ['1', '0', '1', '0']\n",
    "    elif(I==['0', '1', '0', '1']):\n",
    "        O = ['0', '0', '1', '0']\n",
    "    elif(I==['0', '1', '1', '0']):\n",
    "        O = ['0', '0', '1', '1']\n",
    "    elif(I==['0', '1', '1', '1']):\n",
    "        O = ['1', '1', '0', '0']\n",
    "    elif(I==['1', '0', '0', '0']):\n",
    "        O = ['1', '1', '1', '1']\n",
    "    elif(I==['1', '0', '0', '1']):\n",
    "        O = ['0', '0', '0', '0']\n",
    "    elif(I==['1', '0', '1', '0']):\n",
    "        O = ['0', '1', '0', '0']\n",
    "    elif(I==['1', '0', '1', '1']):\n",
    "        O = ['1', '1', '0', '1']\n",
    "    elif(I==['1', '1', '0', '0']):\n",
    "        O = ['0', '1', '1', '1']\n",
    "    elif(I==['1', '1', '0', '1']):\n",
    "        O = ['1', '0', '1', '1']\n",
    "    elif(I==['1', '1', '1', '0']):\n",
    "        O = ['0', '0', '0', '1']\n",
    "    elif(I==['1', '1', '1', '1']):\n",
    "        O = ['1', '0', '0', '0']\n",
    "    return O"
   ]
  },
  {
   "cell_type": "code",
   "execution_count": 6,
   "metadata": {},
   "outputs": [],
   "source": [
    "def f_fun(a):\n",
    "    new_a = a[:]\n",
    "    x = [j for i in new_a for j in i]\n",
    "    new_a=[P(new_a[0]),Q(new_a[1]),P(new_a[2]),Q(new_a[3])]    \n",
    "    new_a=[Q([j for i in [x[0:2],x[4:6]] for j in i]),P([j for i in [x[2:4],x[6:8]] for j in i]),Q([j for i in [x[8:10],x[12:14]] for j in i]),P([j for i in [x[10:12],x[14:16]] for j in i])]\n",
    "    new_a=[P([j for i in [x[0:2],x[4:6]] for j in i]),Q([j for i in [x[2:4],x[6:8]] for j in i]),P([j for i in [x[8:10],x[12:14]] for j in i]),Q([j for i in [x[10:12],x[14:16]] for j in i])]\n",
    "    new_a=[j for i in new_a for j in i]\n",
    "    return new_a"
   ]
  },
  {
   "cell_type": "code",
   "execution_count": 7,
   "metadata": {},
   "outputs": [],
   "source": [
    "session_key = \"cda5340dc0a9bba1c07d6109b14b9d59d6901ad6e58eb04c23355fb2ee9256ae27d511656a21bfad3750bb6e79dcdf963ce7bca6dc0524be26fbd02b280ea635d6eaffe28552ccbf01a8c9d80577dd62afc7d97fb4a30072fd56ce244095c69819a0a6cdd486b11edf555cae0abdae3de7842bb01c47592a25a036ac3b6b59713a4f7f78b4da9e125b3352ff1aacaeb480013b7bbaed0e07bf6c094dec725984\""
   ]
  },
  {
   "cell_type": "code",
   "execution_count": 8,
   "metadata": {},
   "outputs": [],
   "source": [
    "k1, k2, k3, k4, k5 = key_gen(session_key)"
   ]
  },
  {
   "cell_type": "code",
   "execution_count": 9,
   "metadata": {},
   "outputs": [
    {
     "name": "stdout",
     "output_type": "stream",
     "text": [
      "0010010111111110\n",
      "0001100011011000\n",
      "1110001000111011\n",
      "0011101101011111\n",
      "1110010001000010\n"
     ]
    }
   ],
   "source": [
    "print(\"\".join(k1))\n",
    "print(\"\".join(k2))\n",
    "print(\"\".join(k3))\n",
    "print(\"\".join(k4))\n",
    "print(\"\".join(k5))"
   ]
  },
  {
   "cell_type": "code",
   "execution_count": 18,
   "metadata": {},
   "outputs": [
    {
     "name": "stdout",
     "output_type": "stream",
     "text": [
      "['0', '0', '1', '0', '1', '0', '1', '1', '0', '0', '1', '0', '0', '0', '1', '1', '1', '0', '1', '1', '0', '1', '0', '0', '0', '0', '1', '1', '0', '1', '0', '1', '1', '0', '0', '0', '1', '1', '1', '0', '1', '0', '0', '0', '1', '0', '1', '0', '0', '1', '0', '1', '1', '1', '0', '1', '0', '0', '0', '1', '1', '1', '0', '1']\n"
     ]
    }
   ],
   "source": [
    "message=\"0010101100100011101101000011010110001110100010100101110100011101\"\n",
    "message=list(message)\n",
    "print(message)"
   ]
  },
  {
   "cell_type": "code",
   "execution_count": 19,
   "metadata": {},
   "outputs": [
    {
     "data": {
      "text/plain": [
       "'1100111010010100000110101111011100001000001110010010100100001010'"
      ]
     },
     "execution_count": 19,
     "metadata": {},
     "output_type": "execute_result"
    }
   ],
   "source": [
    "#Encryption\n",
    "t1 = message[0:16]\n",
    "t2 = message[16:32]\n",
    "t3 = message[32:48]\n",
    "t4 = message[48:64]\n",
    "\n",
    "p1 = '{:016b}'.format(int(bin(~(int(\"\".join(t1), 2) ^ int(\"\".join(k1), 2)) & int('1111111111111111',2)),2))\n",
    "p2 = '{:016b}'.format(int(\"\".join(f_fun([list(p1[0:4]), list(p1[4:8]), list(p1[8:12]), list(p1[12:16])])),2) ^ int(\"\".join(t3), 2) & int('1111111111111111',2))\n",
    "p4 = '{:016b}'.format(int(bin(~(int(\"\".join(t4), 2) ^ int(\"\".join(k1), 2)) & int('1111111111111111',2)),2))\n",
    "p3 = '{:016b}'.format(int(\"\".join(f_fun([list(p4[0:4]), list(p4[4:8]), list(p4[8:12]), list(p4[12:16])])),2) ^ int(\"\".join(t2), 2) & int('1111111111111111',2))\n",
    "\n",
    "q1 = p2\n",
    "q2 = p1\n",
    "q3 = p4\n",
    "q4 = p3\n",
    "\n",
    "r1 = '{:016b}'.format(int(bin(~(int(\"\".join(q1), 2) ^ int(\"\".join(k2), 2)) & int('1111111111111111',2)),2))\n",
    "r2 = '{:016b}'.format(int(\"\".join(f_fun([list(r1[0:4]), list(r1[4:8]), list(r1[8:12]), list(r1[12:16])])),2) ^ int(\"\".join(q2), 2) & int('1111111111111111',2))\n",
    "r4 = '{:016b}'.format(int(bin(~(int(\"\".join(q4), 2) ^ int(\"\".join(k2), 2)) & int('1111111111111111',2)),2))\n",
    "r3 = '{:016b}'.format(int(\"\".join(f_fun([list(r4[0:4]), list(r4[4:8]), list(r4[8:12]), list(r4[12:16])])),2) ^ int(\"\".join(q3), 2) & int('1111111111111111',2))\n",
    "\n",
    "s1 = '{:016b}'.format(int(bin(~(int(\"\".join(r1), 2) ^ int(\"\".join(k3), 2)) & int('1111111111111111',2)),2))\n",
    "s2 = '{:016b}'.format(int(\"\".join(f_fun([list(s1[0:4]), list(s1[4:8]), list(s1[8:12]), list(s1[12:16])])),2) ^ int(\"\".join(r3), 2) & int('1111111111111111',2))\n",
    "s4 = '{:016b}'.format(int(bin(~(int(\"\".join(r4), 2) ^ int(\"\".join(k3), 2)) & int('1111111111111111',2)),2))\n",
    "s3 = '{:016b}'.format(int(\"\".join(f_fun([list(s4[0:4]), list(s4[4:8]), list(s4[8:12]), list(s4[12:16])])),2) ^ int(\"\".join(r2), 2) & int('1111111111111111',2))\n",
    "\n",
    "a1 = s2\n",
    "a2 = s1\n",
    "a3 = s4\n",
    "a4 = s3\n",
    "\n",
    "b1 = '{:016b}'.format(int(bin(~(int(\"\".join(a1), 2) ^ int(\"\".join(k4), 2)) & int('1111111111111111',2)),2))\n",
    "b2 = '{:016b}'.format(int(\"\".join(f_fun([list(b1[0:4]), list(b1[4:8]), list(b1[8:12]), list(b1[12:16])])),2) ^ int(\"\".join(a2), 2) & int('1111111111111111',2))\n",
    "b4 = '{:016b}'.format(int(bin(~(int(\"\".join(a4), 2) ^ int(\"\".join(k4), 2)) & int('1111111111111111',2)),2))\n",
    "b3 = '{:016b}'.format(int(\"\".join(f_fun([list(b4[0:4]), list(b4[4:8]), list(b4[8:12]), list(b4[12:16])])),2) ^ int(\"\".join(a3), 2) & int('1111111111111111',2))\n",
    "\n",
    "lst = [b1, b2, b3, b4]\n",
    "cipher = [j for i in lst for j in i]\n",
    "cipher = \"\".join(cipher)\n",
    "cipher"
   ]
  },
  {
   "cell_type": "code",
   "execution_count": 20,
   "metadata": {},
   "outputs": [
    {
     "data": {
      "text/plain": [
       "'0010101100100011101101000011010110001110100010100101110100011101'"
      ]
     },
     "execution_count": 20,
     "metadata": {},
     "output_type": "execute_result"
    }
   ],
   "source": [
    "#Decryption\n",
    "r1 = '{:016b}'.format(int(bin(~(int(\"\".join(b1), 2) ^ int(\"\".join(k4), 2)) & int('1111111111111111',2)),2))\n",
    "r2 = '{:016b}'.format(int(\"\".join(f_fun([list(b1[0:4]), list(b1[4:8]), list(b1[8:12]), list(b1[12:16])])),2) ^ int(\"\".join(b2), 2) & int('1111111111111111',2))\n",
    "r4 = '{:016b}'.format(int(bin(~(int(\"\".join(b4), 2) ^ int(\"\".join(k4), 2)) & int('1111111111111111',2)),2))\n",
    "r3 = '{:016b}'.format(int(\"\".join(f_fun([list(b4[0:4]), list(b4[4:8]), list(b4[8:12]), list(b4[12:16])])),2) ^ int(\"\".join(b3), 2) & int('1111111111111111',2))\n",
    "\n",
    "q1 = r2\n",
    "q2 = r1\n",
    "q3 = r4\n",
    "q4 = r3\n",
    "\n",
    "s1 = '{:016b}'.format(int(bin(~(int(\"\".join(q1), 2) ^ int(\"\".join(k3), 2)) & int('1111111111111111',2)),2))\n",
    "s3 = '{:016b}'.format(int(\"\".join(f_fun([list(q1[0:4]), list(q1[4:8]), list(q1[8:12]), list(q1[12:16])])),2) ^ int(\"\".join(q2), 2) & int('1111111111111111',2))\n",
    "s4 = '{:016b}'.format(int(bin(~(int(\"\".join(q4), 2) ^ int(\"\".join(k3), 2)) & int('1111111111111111',2)),2))\n",
    "s2 = '{:016b}'.format(int(\"\".join(f_fun([list(q4[0:4]), list(q4[4:8]), list(q4[8:12]), list(q4[12:16])])),2) ^ int(\"\".join(q3), 2) & int('1111111111111111',2))\n",
    "\n",
    "b1 = '{:016b}'.format(int(bin(~(int(\"\".join(s1), 2) ^ int(\"\".join(k2), 2)) & int('1111111111111111',2)),2))\n",
    "b2 = '{:016b}'.format(int(\"\".join(f_fun([list(s1[0:4]), list(s1[4:8]), list(s1[8:12]), list(s1[12:16])])),2) ^ int(\"\".join(s2), 2) & int('1111111111111111',2))\n",
    "b4 = '{:016b}'.format(int(bin(~(int(\"\".join(s4), 2) ^ int(\"\".join(k2), 2)) & int('1111111111111111',2)),2))\n",
    "b3 = '{:016b}'.format(int(\"\".join(f_fun([list(s4[0:4]), list(s4[4:8]), list(s4[8:12]), list(s4[12:16])])),2) ^ int(\"\".join(s3), 2) & int('1111111111111111',2))\n",
    "\n",
    "a1 = b2\n",
    "a2 = b1\n",
    "a3 = b4\n",
    "a4 = b3\n",
    "\n",
    "boo1 = '{:016b}'.format(int(bin(~(int(\"\".join(a1), 2) ^ int(\"\".join(k1), 2)) & int('1111111111111111',2)),2))\n",
    "boo3 = '{:016b}'.format(int(\"\".join(f_fun([list(a1[0:4]), list(a1[4:8]), list(a1[8:12]), list(a1[12:16])])),2) ^ int(\"\".join(a2), 2) & int('1111111111111111',2))\n",
    "boo4 = '{:016b}'.format(int(bin(~(int(\"\".join(a4), 2) ^ int(\"\".join(k1), 2)) & int('1111111111111111',2)),2))\n",
    "boo2 = '{:016b}'.format(int(\"\".join(f_fun([list(a4[0:4]), list(a4[4:8]), list(a4[8:12]), list(a4[12:16])])),2) ^ int(\"\".join(a3), 2) & int('1111111111111111',2))\n",
    "\n",
    "lst = [boo1, boo2, boo3, boo4]\n",
    "\n",
    "msg = [j for i in lst for j in i]\n",
    "msg=\"\".join(msg)\n",
    "msg"
   ]
  },
  {
   "cell_type": "code",
   "execution_count": 21,
   "metadata": {},
   "outputs": [
    {
     "data": {
      "text/plain": [
       "'0010101100100011101101000011010110001110100010100101110100011101'"
      ]
     },
     "execution_count": 21,
     "metadata": {},
     "output_type": "execute_result"
    }
   ],
   "source": [
    "msg"
   ]
  },
  {
   "cell_type": "code",
   "execution_count": 22,
   "metadata": {},
   "outputs": [],
   "source": [
    "m=\"\".join(message)"
   ]
  },
  {
   "cell_type": "code",
   "execution_count": 23,
   "metadata": {},
   "outputs": [
    {
     "data": {
      "text/plain": [
       "'0010101100100011101101000011010110001110100010100101110100011101'"
      ]
     },
     "execution_count": 23,
     "metadata": {},
     "output_type": "execute_result"
    }
   ],
   "source": [
    "m"
   ]
  },
  {
   "cell_type": "code",
   "execution_count": 24,
   "metadata": {},
   "outputs": [
    {
     "data": {
      "text/plain": [
       "True"
      ]
     },
     "execution_count": 24,
     "metadata": {},
     "output_type": "execute_result"
    }
   ],
   "source": [
    "m==msg"
   ]
  },
  {
   "cell_type": "code",
   "execution_count": null,
   "metadata": {},
   "outputs": [],
   "source": []
  },
  {
   "cell_type": "code",
   "execution_count": null,
   "metadata": {},
   "outputs": [],
   "source": []
  },
  {
   "cell_type": "code",
   "execution_count": null,
   "metadata": {},
   "outputs": [],
   "source": []
  },
  {
   "cell_type": "code",
   "execution_count": null,
   "metadata": {},
   "outputs": [],
   "source": []
  },
  {
   "cell_type": "code",
   "execution_count": null,
   "metadata": {},
   "outputs": [],
   "source": []
  },
  {
   "cell_type": "code",
   "execution_count": 13,
   "metadata": {},
   "outputs": [
    {
     "data": {
      "text/plain": [
       "False"
      ]
     },
     "execution_count": 13,
     "metadata": {},
     "output_type": "execute_result"
    }
   ],
   "source": [
    "cipher == message"
   ]
  },
  {
   "cell_type": "code",
   "execution_count": 17,
   "metadata": {},
   "outputs": [],
   "source": [
    "def encrypt(message, k1, k2, k3, k4, k5):\n",
    "    t1 = message[0:16]\n",
    "    t2 = message[16:32]\n",
    "    t3 = message[32:48]\n",
    "    t4 = message[48:64]\n",
    "    \n",
    "    p1 = '{:016b}'.format(int(bin(~(int(\"\".join(t1), 2) ^ int(\"\".join(k1), 2)) & int('1111111111111111',2)),2))\n",
    "    p2 = '{:016b}'.format(int(\"\".join(f_fun([list(p1[0:4]), list(p1[4:8]), list(p1[8:12]), list(p1[12:16])])),2) ^ int(\"\".join(t3), 2) & int('1111111111111111',2))\n",
    "    p4 = '{:016b}'.format(int(bin(~(int(\"\".join(t4), 2) ^ int(\"\".join(k1), 2)) & int('1111111111111111',2)),2))\n",
    "    p3 = '{:016b}'.format(int(\"\".join(f_fun([list(p4[0:4]), list(p4[4:8]), list(p4[8:12]), list(p4[12:16])])),2) ^ int(\"\".join(t2), 2) & int('1111111111111111',2))\n",
    "    \n",
    "    q1 = p2\n",
    "    q2 = p1\n",
    "    q3 = p4\n",
    "    q4 = p3\n",
    "    \n",
    "    r1 = '{:016b}'.format(int(bin(~(int(\"\".join(q1), 2) ^ int(\"\".join(k2), 2)) & int('1111111111111111',2)),2))\n",
    "    r2 = '{:016b}'.format(int(\"\".join(f_fun([list(r1[0:4]), list(r1[4:8]), list(r1[8:12]), list(r1[12:16])])),2) ^ int(\"\".join(q2), 2) & int('1111111111111111',2))\n",
    "    r4 = '{:016b}'.format(int(bin(~(int(\"\".join(q4), 2) ^ int(\"\".join(k2), 2)) & int('1111111111111111',2)),2))\n",
    "    r3 = '{:016b}'.format(int(\"\".join(f_fun([list(r4[0:4]), list(r4[4:8]), list(r4[8:12]), list(r4[12:16])])),2) ^ int(\"\".join(q3), 2) & int('1111111111111111',2))\n",
    "    \n",
    "    s1 = '{:016b}'.format(int(bin(~(int(\"\".join(r1), 2) ^ int(\"\".join(k3), 2)) & int('1111111111111111',2)),2))\n",
    "    s2 = '{:016b}'.format(int(\"\".join(f_fun([list(s1[0:4]), list(s1[4:8]), list(s1[8:12]), list(s1[12:16])])),2) ^ int(\"\".join(r3), 2) & int('1111111111111111',2))\n",
    "    s4 = '{:016b}'.format(int(bin(~(int(\"\".join(r4), 2) ^ int(\"\".join(k3), 2)) & int('1111111111111111',2)),2))\n",
    "    s3 = '{:016b}'.format(int(\"\".join(f_fun([list(s4[0:4]), list(s4[4:8]), list(s4[8:12]), list(s4[12:16])])),2) ^ int(\"\".join(r2), 2) & int('1111111111111111',2))\n",
    "    \n",
    "    a1 = s2\n",
    "    a2 = s1\n",
    "    a3 = s4\n",
    "    a4 = s3\n",
    "    \n",
    "    b1 = '{:016b}'.format(int(bin(~(int(\"\".join(a1), 2) ^ int(\"\".join(k4), 2)) & int('1111111111111111',2)),2))\n",
    "    b2 = '{:016b}'.format(int(\"\".join(f_fun([list(b1[0:4]), list(b1[4:8]), list(b1[8:12]), list(b1[12:16])])),2) ^ int(\"\".join(a2), 2) & int('1111111111111111',2))\n",
    "    b4 = '{:016b}'.format(int(bin(~(int(\"\".join(a4), 2) ^ int(\"\".join(k4), 2)) & int('1111111111111111',2)),2))\n",
    "    b3 = '{:016b}'.format(int(\"\".join(f_fun([list(b4[0:4]), list(b4[4:8]), list(b4[8:12]), list(b4[12:16])])),2) ^ int(\"\".join(a3), 2) & int('1111111111111111',2))\n",
    "    \n",
    "    c1 = '{:016b}'.format(int(bin(~(int(\"\".join(b1), 2) ^ int(\"\".join(k5), 2)) & int('1111111111111111',2)),2))\n",
    "    c2 = '{:016b}'.format(int(\"\".join(f_fun([list(c1[0:4]), list(c1[4:8]), list(c1[8:12]), list(c1[12:16])])),2) ^ int(\"\".join(b3), 2) & int('1111111111111111',2))\n",
    "    c4 = '{:016b}'.format(int(bin(~(int(\"\".join(b4), 2) ^ int(\"\".join(k5), 2)) & int('1111111111111111',2)),2))\n",
    "    c3 = '{:016b}'.format(int(\"\".join(f_fun([list(c4[0:4]), list(c4[4:8]), list(c4[8:12]), list(c4[12:16])])),2) ^ int(\"\".join(b2), 2) & int('1111111111111111',2))\n",
    "    \n",
    "    print(c1)\n",
    "    print(c2)\n",
    "    print(c3)\n",
    "    print(c4)\n",
    "    lst = [c1, c2, c3, c4]\n",
    "    cipher = [j for i in lst for j in i]\n",
    "    return \"\".join(cipher)"
   ]
  },
  {
   "cell_type": "code",
   "execution_count": null,
   "metadata": {},
   "outputs": [],
   "source": []
  },
  {
   "cell_type": "code",
   "execution_count": 18,
   "metadata": {},
   "outputs": [],
   "source": [
    "def decrypt(cipher, k1, k2, k3, k4, k5):\n",
    "    print(cipher)\n",
    "    t1 = cipher[0:16]\n",
    "    t2 = cipher[16:32]\n",
    "    t3 = cipher[32:48]\n",
    "    t4 = cipher[48:64]\n",
    "    print(t1)\n",
    "    print(t2)\n",
    "    print(t3)\n",
    "    print(t4)\n",
    "    p1 = '{:016b}'.format(int(bin(~(int(\"\".join(t1), 2) ^ int(\"\".join(k5), 2)) & int('1111111111111111',2)),2))\n",
    "    p3 = '{:016b}'.format(int(\"\".join(f_fun([list(t1[0:4]), list(t1[4:8]), list(t1[8:12]), list(t1[12:16])])),2) ^ int(\"\".join(t2), 2) & int('1111111111111111',2))\n",
    "    p4 = '{:016b}'.format(int(bin(~(int(\"\".join(t4), 2) ^ int(\"\".join(k5), 2)) & int('1111111111111111',2)),2))\n",
    "    p2 = '{:016b}'.format(int(\"\".join(f_fun([list(t4[0:4]), list(t4[4:8]), list(t4[8:12]), list(t4[12:16])])),2) ^ int(\"\".join(t3), 2) & int('1111111111111111',2))\n",
    "    \n",
    "    r1 = '{:016b}'.format(int(bin(~(int(\"\".join(p1), 2) ^ int(\"\".join(k4), 2)) & int('1111111111111111',2)),2))\n",
    "    r2 = '{:016b}'.format(int(\"\".join(f_fun([list(p1[0:4]), list(p1[4:8]), list(p1[8:12]), list(p1[12:16])])),2) ^ int(\"\".join(p2), 2) & int('1111111111111111',2))\n",
    "    r4 = '{:016b}'.format(int(bin(~(int(\"\".join(p4), 2) ^ int(\"\".join(k4), 2)) & int('1111111111111111',2)),2))\n",
    "    r3 = '{:016b}'.format(int(\"\".join(f_fun([list(p4[0:4]), list(p4[4:8]), list(p4[8:12]), list(p4[12:16])])),2) ^ int(\"\".join(p3), 2) & int('1111111111111111',2))\n",
    "    \n",
    "    q1 = r2\n",
    "    q2 = r1\n",
    "    q3 = r4\n",
    "    q4 = r3\n",
    "    \n",
    "    s1 = '{:016b}'.format(int(bin(~(int(\"\".join(q1), 2) ^ int(\"\".join(k3), 2)) & int('1111111111111111',2)),2))\n",
    "    s3 = '{:016b}'.format(int(\"\".join(f_fun([list(q1[0:4]), list(q1[4:8]), list(q1[8:12]), list(q1[12:16])])),2) ^ int(\"\".join(q2), 2) & int('1111111111111111',2))\n",
    "    s4 = '{:016b}'.format(int(bin(~(int(\"\".join(q4), 2) ^ int(\"\".join(k3), 2)) & int('1111111111111111',2)),2))\n",
    "    s2 = '{:016b}'.format(int(\"\".join(f_fun([list(q4[0:4]), list(q4[4:8]), list(q4[8:12]), list(q4[12:16])])),2) ^ int(\"\".join(q3), 2) & int('1111111111111111',2))\n",
    "    \n",
    "    b1 = '{:016b}'.format(int(bin(~(int(\"\".join(s1), 2) ^ int(\"\".join(k2), 2)) & int('1111111111111111',2)),2))\n",
    "    b2 = '{:016b}'.format(int(\"\".join(f_fun([list(s1[0:4]), list(s1[4:8]), list(s1[8:12]), list(s1[12:16])])),2) ^ int(\"\".join(s2), 2) & int('1111111111111111',2))\n",
    "    b4 = '{:016b}'.format(int(bin(~(int(\"\".join(s4), 2) ^ int(\"\".join(k2), 2)) & int('1111111111111111',2)),2))\n",
    "    b3 = '{:016b}'.format(int(\"\".join(f_fun([list(s4[0:4]), list(s4[4:8]), list(s4[8:12]), list(s4[12:16])])),2) ^ int(\"\".join(s3), 2) & int('1111111111111111',2))\n",
    "    \n",
    "    a1 = b2\n",
    "    a2 = b1\n",
    "    a3 = b4\n",
    "    a4 = b3\n",
    "    \n",
    "    boo1 = '{:016b}'.format(int(bin(~(int(\"\".join(a1), 2) ^ int(\"\".join(k1), 2)) & int('1111111111111111',2)),2))\n",
    "    boo3 = '{:016b}'.format(int(\"\".join(f_fun([list(a1[0:4]), list(a1[4:8]), list(a1[8:12]), list(a1[12:16])])),2) ^ int(\"\".join(a2), 2) & int('1111111111111111',2))\n",
    "    boo4 = '{:016b}'.format(int(bin(~(int(\"\".join(a4), 2) ^ int(\"\".join(k1), 2)) & int('1111111111111111',2)),2))\n",
    "    boo2 = '{:016b}'.format(int(\"\".join(f_fun([list(a4[0:4]), list(a4[4:8]), list(a4[8:12]), list(a4[12:16])])),2) ^ int(\"\".join(a3), 2) & int('1111111111111111',2))\n",
    "    \n",
    "    last = [boo1, boo2, boo3, boo4]\n",
    "    message = [j for i in last for j in i]\n",
    "    return \"\".join(message)\n",
    "    "
   ]
  },
  {
   "cell_type": "code",
   "execution_count": 19,
   "metadata": {
    "scrolled": true
   },
   "outputs": [
    {
     "name": "stdout",
     "output_type": "stream",
     "text": [
      "0101010010111110\n",
      "1111101010000000\n",
      "0101101001111000\n",
      "0001011111011011\n"
     ]
    }
   ],
   "source": [
    "c = encrypt(message, k1, k2, k3, k4, k5)"
   ]
  },
  {
   "cell_type": "code",
   "execution_count": 20,
   "metadata": {},
   "outputs": [
    {
     "data": {
      "text/plain": [
       "'0101010010111110111110101000000001011010011110000001011111011011'"
      ]
     },
     "execution_count": 20,
     "metadata": {},
     "output_type": "execute_result"
    }
   ],
   "source": [
    "c"
   ]
  },
  {
   "cell_type": "code",
   "execution_count": 21,
   "metadata": {},
   "outputs": [
    {
     "data": {
      "text/plain": [
       "64"
      ]
     },
     "execution_count": 21,
     "metadata": {},
     "output_type": "execute_result"
    }
   ],
   "source": [
    "len(c)"
   ]
  },
  {
   "cell_type": "code",
   "execution_count": 22,
   "metadata": {},
   "outputs": [
    {
     "name": "stdout",
     "output_type": "stream",
     "text": [
      "0101010010111110111110101000000001011010011110000001011111011011\n",
      "0101010010111110\n",
      "1111101010000000\n",
      "0101101001111000\n",
      "0001011111011011\n"
     ]
    }
   ],
   "source": [
    "m = decrypt(c, k1, k2, k3, k4, k5)"
   ]
  },
  {
   "cell_type": "code",
   "execution_count": 23,
   "metadata": {},
   "outputs": [
    {
     "data": {
      "text/plain": [
       "'0100001011000011111110111110101100000000111101001010000110100110'"
      ]
     },
     "execution_count": 23,
     "metadata": {},
     "output_type": "execute_result"
    }
   ],
   "source": [
    "m"
   ]
  },
  {
   "cell_type": "code",
   "execution_count": 82,
   "metadata": {},
   "outputs": [
    {
     "data": {
      "text/plain": [
       "False"
      ]
     },
     "execution_count": 82,
     "metadata": {},
     "output_type": "execute_result"
    }
   ],
   "source": [
    "c==m"
   ]
  },
  {
   "cell_type": "code",
   "execution_count": 61,
   "metadata": {},
   "outputs": [
    {
     "data": {
      "text/plain": [
       "'0100001011000011111110111110101100000000111101001010000110100110'"
      ]
     },
     "execution_count": 61,
     "metadata": {},
     "output_type": "execute_result"
    }
   ],
   "source": [
    "boo"
   ]
  },
  {
   "cell_type": "code",
   "execution_count": 63,
   "metadata": {},
   "outputs": [],
   "source": [
    "m=\"\".join(message)"
   ]
  },
  {
   "cell_type": "code",
   "execution_count": 64,
   "metadata": {},
   "outputs": [
    {
     "data": {
      "text/plain": [
       "True"
      ]
     },
     "execution_count": 64,
     "metadata": {},
     "output_type": "execute_result"
    }
   ],
   "source": [
    "boo==m"
   ]
  },
  {
   "cell_type": "code",
   "execution_count": null,
   "metadata": {},
   "outputs": [],
   "source": []
  },
  {
   "cell_type": "code",
   "execution_count": null,
   "metadata": {},
   "outputs": [],
   "source": []
  },
  {
   "cell_type": "code",
   "execution_count": null,
   "metadata": {},
   "outputs": [],
   "source": []
  },
  {
   "cell_type": "code",
   "execution_count": null,
   "metadata": {},
   "outputs": [],
   "source": []
  },
  {
   "cell_type": "code",
   "execution_count": null,
   "metadata": {},
   "outputs": [],
   "source": []
  },
  {
   "cell_type": "code",
   "execution_count": null,
   "metadata": {},
   "outputs": [],
   "source": []
  },
  {
   "cell_type": "code",
   "execution_count": 16,
   "metadata": {},
   "outputs": [],
   "source": [
    "t1 = message[0:16]\n",
    "t2 = message[16:32]\n",
    "t3 = message[32:48]\n",
    "t4 = message[48:64]\n",
    "\n",
    "p1 = '{:016b}'.format(int(bin(~(int(\"\".join(t1), 2) ^ int(\"\".join(k1), 2)) & int('1111111111111111',2)),2))\n",
    "p2 = '{:016b}'.format(int(\"\".join(f_fun([list(p1[0:4]), list(p1[4:8]), list(p1[8:12]), list(p1[12:16])])),2) ^ int(\"\".join(t3), 2) & int('1111111111111111',2))\n",
    "p4 = '{:016b}'.format(int(bin(~(int(\"\".join(t4), 2) ^ int(\"\".join(k1), 2)) & int('1111111111111111',2)),2))\n",
    "p3 = '{:016b}'.format(int(\"\".join(f_fun([list(p4[0:4]), list(p4[4:8]), list(p4[8:12]), list(p4[12:16])])),2) ^ int(\"\".join(t2), 2) & int('1111111111111111',2))\n",
    "\n",
    "q1 = p2\n",
    "q2 = p1\n",
    "q3 = p4\n",
    "q4 = p3\n",
    "\n",
    "r1 = '{:016b}'.format(int(bin(~(int(\"\".join(q1), 2) ^ int(\"\".join(k2), 2)) & int('1111111111111111',2)),2))\n",
    "r2 = '{:016b}'.format(int(\"\".join(f_fun([list(r1[0:4]), list(r1[4:8]), list(r1[8:12]), list(r1[12:16])])),2) ^ int(\"\".join(q2), 2) & int('1111111111111111',2))\n",
    "r4 = '{:016b}'.format(int(bin(~(int(\"\".join(q4), 2) ^ int(\"\".join(k2), 2)) & int('1111111111111111',2)),2))\n",
    "r3 = '{:016b}'.format(int(\"\".join(f_fun([list(r4[0:4]), list(r4[4:8]), list(r4[8:12]), list(r4[12:16])])),2) ^ int(\"\".join(q3), 2) & int('1111111111111111',2))\n",
    "\n",
    "s1 = '{:016b}'.format(int(bin(~(int(\"\".join(r1), 2) ^ int(\"\".join(k3), 2)) & int('1111111111111111',2)),2))\n",
    "s2 = '{:016b}'.format(int(\"\".join(f_fun([list(s1[0:4]), list(s1[4:8]), list(s1[8:12]), list(s1[12:16])])),2) ^ int(\"\".join(r3), 2) & int('1111111111111111',2))\n",
    "s4 = '{:016b}'.format(int(bin(~(int(\"\".join(r4), 2) ^ int(\"\".join(k3), 2)) & int('1111111111111111',2)),2))\n",
    "s3 = '{:016b}'.format(int(\"\".join(f_fun([list(s4[0:4]), list(s4[4:8]), list(s4[8:12]), list(s4[12:16])])),2) ^ int(\"\".join(r2), 2) & int('1111111111111111',2))\n",
    "\n",
    "a1 = s2\n",
    "a2 = s1\n",
    "a3 = s4\n",
    "a4 = s3\n",
    "\n",
    "b1 = '{:016b}'.format(int(bin(~(int(\"\".join(a1), 2) ^ int(\"\".join(k4), 2)) & int('1111111111111111',2)),2))\n",
    "b2 = '{:016b}'.format(int(\"\".join(f_fun([list(b1[0:4]), list(b1[4:8]), list(b1[8:12]), list(b1[12:16])])),2) ^ int(\"\".join(a2), 2) & int('1111111111111111',2))\n",
    "b4 = '{:016b}'.format(int(bin(~(int(\"\".join(a4), 2) ^ int(\"\".join(k4), 2)) & int('1111111111111111',2)),2))\n",
    "b3 = '{:016b}'.format(int(\"\".join(f_fun([list(b4[0:4]), list(b4[4:8]), list(b4[8:12]), list(b4[12:16])])),2) ^ int(\"\".join(a3), 2) & int('1111111111111111',2))\n"
   ]
  },
  {
   "cell_type": "code",
   "execution_count": 17,
   "metadata": {},
   "outputs": [],
   "source": [
    "r1 = '{:016b}'.format(int(bin(~(int(\"\".join(b1), 2) ^ int(\"\".join(k4), 2)) & int('1111111111111111',2)),2))\n",
    "r2 = '{:016b}'.format(int(\"\".join(f_fun([list(b1[0:4]), list(b1[4:8]), list(b1[8:12]), list(b1[12:16])])),2) ^ int(\"\".join(b2), 2) & int('1111111111111111',2))\n",
    "r4 = '{:016b}'.format(int(bin(~(int(\"\".join(b4), 2) ^ int(\"\".join(k4), 2)) & int('1111111111111111',2)),2))\n",
    "r3 = '{:016b}'.format(int(\"\".join(f_fun([list(b4[0:4]), list(b4[4:8]), list(b4[8:12]), list(b4[12:16])])),2) ^ int(\"\".join(b3), 2) & int('1111111111111111',2))\n",
    "\n",
    "q1 = r2\n",
    "q2 = r1\n",
    "q3 = r4\n",
    "q4 = r3\n",
    "\n",
    "s1 = '{:016b}'.format(int(bin(~(int(\"\".join(q1), 2) ^ int(\"\".join(k3), 2)) & int('1111111111111111',2)),2))\n",
    "s3 = '{:016b}'.format(int(\"\".join(f_fun([list(q1[0:4]), list(q1[4:8]), list(q1[8:12]), list(q1[12:16])])),2) ^ int(\"\".join(q2), 2) & int('1111111111111111',2))\n",
    "s4 = '{:016b}'.format(int(bin(~(int(\"\".join(q4), 2) ^ int(\"\".join(k3), 2)) & int('1111111111111111',2)),2))\n",
    "s2 = '{:016b}'.format(int(\"\".join(f_fun([list(q4[0:4]), list(q4[4:8]), list(q4[8:12]), list(q4[12:16])])),2) ^ int(\"\".join(q3), 2) & int('1111111111111111',2))\n",
    "\n",
    "b1 = '{:016b}'.format(int(bin(~(int(\"\".join(s1), 2) ^ int(\"\".join(k2), 2)) & int('1111111111111111',2)),2))\n",
    "b2 = '{:016b}'.format(int(\"\".join(f_fun([list(s1[0:4]), list(s1[4:8]), list(s1[8:12]), list(s1[12:16])])),2) ^ int(\"\".join(s2), 2) & int('1111111111111111',2))\n",
    "b4 = '{:016b}'.format(int(bin(~(int(\"\".join(s4), 2) ^ int(\"\".join(k2), 2)) & int('1111111111111111',2)),2))\n",
    "b3 = '{:016b}'.format(int(\"\".join(f_fun([list(s4[0:4]), list(s4[4:8]), list(s4[8:12]), list(s4[12:16])])),2) ^ int(\"\".join(s3), 2) & int('1111111111111111',2))\n",
    "\n",
    "a1 = b2\n",
    "a2 = b1\n",
    "a3 = b4\n",
    "a4 = b3\n",
    "\n",
    "c1 = '{:016b}'.format(int(bin(~(int(\"\".join(a1), 2) ^ int(\"\".join(k1), 2)) & int('1111111111111111',2)),2))\n",
    "c3 = '{:016b}'.format(int(\"\".join(f_fun([list(a1[0:4]), list(a1[4:8]), list(a1[8:12]), list(a1[12:16])])),2) ^ int(\"\".join(a2), 2) & int('1111111111111111',2))\n",
    "c4 = '{:016b}'.format(int(bin(~(int(\"\".join(a4), 2) ^ int(\"\".join(k1), 2)) & int('1111111111111111',2)),2))\n",
    "c2 = '{:016b}'.format(int(\"\".join(f_fun([list(a4[0:4]), list(a4[4:8]), list(a4[8:12]), list(a4[12:16])])),2) ^ int(\"\".join(a3), 2) & int('1111111111111111',2))\n",
    "\n",
    "lst = [c1, c2, c3, c4]\n",
    "\n",
    "cipher = [j for i in lst for j in i]\n",
    "boo=\"\".join(cipher)"
   ]
  },
  {
   "cell_type": "code",
   "execution_count": 18,
   "metadata": {},
   "outputs": [
    {
     "data": {
      "text/plain": [
       "True"
      ]
     },
     "execution_count": 18,
     "metadata": {},
     "output_type": "execute_result"
    }
   ],
   "source": [
    "boo == \"\".join(message)"
   ]
  },
  {
   "cell_type": "code",
   "execution_count": 35,
   "metadata": {},
   "outputs": [],
   "source": [
    "t1 = message[0:16]\n",
    "t2 = message[16:32]\n",
    "t3 = message[32:48]\n",
    "t4 = message[48:64]\n",
    "\n",
    "p1 = '{:016b}'.format(int(bin(~(int(\"\".join(t1), 2) ^ int(\"\".join(k1), 2)) & int('1111111111111111',2)),2))\n",
    "p2 = '{:016b}'.format(int(\"\".join(f_fun([list(p1[0:4]), list(p1[4:8]), list(p1[8:12]), list(p1[12:16])])),2) ^ int(\"\".join(t3), 2) & int('1111111111111111',2))\n",
    "p4 = '{:016b}'.format(int(bin(~(int(\"\".join(t4), 2) ^ int(\"\".join(k1), 2)) & int('1111111111111111',2)),2))\n",
    "p3 = '{:016b}'.format(int(\"\".join(f_fun([list(p4[0:4]), list(p4[4:8]), list(p4[8:12]), list(p4[12:16])])),2) ^ int(\"\".join(t2), 2) & int('1111111111111111',2))\n",
    "\n",
    "q1 = p2\n",
    "q2 = p1\n",
    "q3 = p4\n",
    "q4 = p3\n",
    "\n",
    "r1 = '{:016b}'.format(int(bin(~(int(\"\".join(q1), 2) ^ int(\"\".join(k2), 2)) & int('1111111111111111',2)),2))\n",
    "r2 = '{:016b}'.format(int(\"\".join(f_fun([list(r1[0:4]), list(r1[4:8]), list(r1[8:12]), list(r1[12:16])])),2) ^ int(\"\".join(q2), 2) & int('1111111111111111',2))\n",
    "r4 = '{:016b}'.format(int(bin(~(int(\"\".join(q4), 2) ^ int(\"\".join(k2), 2)) & int('1111111111111111',2)),2))\n",
    "r3 = '{:016b}'.format(int(\"\".join(f_fun([list(r4[0:4]), list(r4[4:8]), list(r4[8:12]), list(r4[12:16])])),2) ^ int(\"\".join(q3), 2) & int('1111111111111111',2))\n",
    "\n",
    "s1 = '{:016b}'.format(int(bin(~(int(\"\".join(r1), 2) ^ int(\"\".join(k3), 2)) & int('1111111111111111',2)),2))\n",
    "s2 = '{:016b}'.format(int(\"\".join(f_fun([list(s1[0:4]), list(s1[4:8]), list(s1[8:12]), list(s1[12:16])])),2) ^ int(\"\".join(r3), 2) & int('1111111111111111',2))\n",
    "s4 = '{:016b}'.format(int(bin(~(int(\"\".join(r4), 2) ^ int(\"\".join(k3), 2)) & int('1111111111111111',2)),2))\n",
    "s3 = '{:016b}'.format(int(\"\".join(f_fun([list(s4[0:4]), list(s4[4:8]), list(s4[8:12]), list(s4[12:16])])),2) ^ int(\"\".join(r2), 2) & int('1111111111111111',2))"
   ]
  },
  {
   "cell_type": "code",
   "execution_count": 36,
   "metadata": {},
   "outputs": [],
   "source": [
    "e1 = '{:016b}'.format(int(bin(~(int(\"\".join(s1), 2) ^ int(\"\".join(k3), 2)) & int('1111111111111111',2)),2))\n",
    "e3 = '{:016b}'.format(int(\"\".join(f_fun([list(s1[0:4]), list(s1[4:8]), list(s1[8:12]), list(s1[12:16])])),2) ^ int(\"\".join(s2), 2) & int('1111111111111111',2))\n",
    "e4 = '{:016b}'.format(int(bin(~(int(\"\".join(s4), 2) ^ int(\"\".join(k3), 2)) & int('1111111111111111',2)),2))\n",
    "e2 = '{:016b}'.format(int(\"\".join(f_fun([list(s4[0:4]), list(s4[4:8]), list(s4[8:12]), list(s4[12:16])])),2) ^ int(\"\".join(s3), 2) & int('1111111111111111',2))\n",
    "\n",
    "b1 = '{:016b}'.format(int(bin(~(int(\"\".join(e1), 2) ^ int(\"\".join(k2), 2)) & int('1111111111111111',2)),2))\n",
    "b2 = '{:016b}'.format(int(\"\".join(f_fun([list(e1[0:4]), list(e1[4:8]), list(e1[8:12]), list(e1[12:16])])),2) ^ int(\"\".join(e2), 2) & int('1111111111111111',2))\n",
    "b4 = '{:016b}'.format(int(bin(~(int(\"\".join(e4), 2) ^ int(\"\".join(k2), 2)) & int('1111111111111111',2)),2))\n",
    "b3 = '{:016b}'.format(int(\"\".join(f_fun([list(e4[0:4]), list(e4[4:8]), list(e4[8:12]), list(e4[12:16])])),2) ^ int(\"\".join(e3), 2) & int('1111111111111111',2))\n",
    "\n",
    "a1 = b2\n",
    "a2 = b1\n",
    "a3 = b4\n",
    "a4 = b3\n",
    "\n",
    "c1 = '{:016b}'.format(int(bin(~(int(\"\".join(a1), 2) ^ int(\"\".join(k1), 2)) & int('1111111111111111',2)),2))\n",
    "c3 = '{:016b}'.format(int(\"\".join(f_fun([list(a1[0:4]), list(a1[4:8]), list(a1[8:12]), list(a1[12:16])])),2) ^ int(\"\".join(a2), 2) & int('1111111111111111',2))\n",
    "c4 = '{:016b}'.format(int(bin(~(int(\"\".join(a4), 2) ^ int(\"\".join(k1), 2)) & int('1111111111111111',2)),2))\n",
    "c2 = '{:016b}'.format(int(\"\".join(f_fun([list(a4[0:4]), list(a4[4:8]), list(a4[8:12]), list(a4[12:16])])),2) ^ int(\"\".join(a3), 2) & int('1111111111111111',2))\n",
    "\n",
    "lst = [c1, c2, c3, c4]\n",
    "\n",
    "cipher = [j for i in lst for j in i]\n",
    "boo=\"\".join(cipher)"
   ]
  },
  {
   "cell_type": "code",
   "execution_count": 37,
   "metadata": {},
   "outputs": [
    {
     "data": {
      "text/plain": [
       "True"
      ]
     },
     "execution_count": 37,
     "metadata": {},
     "output_type": "execute_result"
    }
   ],
   "source": [
    "boo == \"\".join(message)"
   ]
  },
  {
   "cell_type": "code",
   "execution_count": null,
   "metadata": {},
   "outputs": [],
   "source": []
  },
  {
   "cell_type": "code",
   "execution_count": 16,
   "metadata": {},
   "outputs": [],
   "source": [
    "t1 = message[0:16]\n",
    "t2 = message[16:32]\n",
    "t3 = message[32:48]\n",
    "t4 = message[48:64]\n",
    "\n",
    "p1 = '{:016b}'.format(int(bin(~(int(\"\".join(t1), 2) ^ int(\"\".join(k1), 2)) & int('1111111111111111',2)),2))\n",
    "p2 = '{:016b}'.format(int(\"\".join(f_fun([list(p1[0:4]), list(p1[4:8]), list(p1[8:12]), list(p1[12:16])])),2) ^ int(\"\".join(t3), 2) & int('1111111111111111',2))\n",
    "p4 = '{:016b}'.format(int(bin(~(int(\"\".join(t4), 2) ^ int(\"\".join(k1), 2)) & int('1111111111111111',2)),2))\n",
    "p3 = '{:016b}'.format(int(\"\".join(f_fun([list(p4[0:4]), list(p4[4:8]), list(p4[8:12]), list(p4[12:16])])),2) ^ int(\"\".join(t2), 2) & int('1111111111111111',2))\n",
    "\n",
    "q1 = p2\n",
    "q2 = p1\n",
    "q3 = p4\n",
    "q4 = p3\n",
    "\n",
    "r1 = '{:016b}'.format(int(bin(~(int(\"\".join(q1), 2) ^ int(\"\".join(k2), 2)) & int('1111111111111111',2)),2))\n",
    "r2 = '{:016b}'.format(int(\"\".join(f_fun([list(r1[0:4]), list(r1[4:8]), list(r1[8:12]), list(r1[12:16])])),2) ^ int(\"\".join(q2), 2) & int('1111111111111111',2))\n",
    "r4 = '{:016b}'.format(int(bin(~(int(\"\".join(q4), 2) ^ int(\"\".join(k2), 2)) & int('1111111111111111',2)),2))\n",
    "r3 = '{:016b}'.format(int(\"\".join(f_fun([list(r4[0:4]), list(r4[4:8]), list(r4[8:12]), list(r4[12:16])])),2) ^ int(\"\".join(q3), 2) & int('1111111111111111',2))"
   ]
  },
  {
   "cell_type": "code",
   "execution_count": 17,
   "metadata": {},
   "outputs": [],
   "source": [
    "b1 = '{:016b}'.format(int(bin(~(int(\"\".join(r1), 2) ^ int(\"\".join(k2), 2)) & int('1111111111111111',2)),2))\n",
    "b2 = '{:016b}'.format(int(\"\".join(f_fun([list(r1[0:4]), list(r1[4:8]), list(r1[8:12]), list(r1[12:16])])),2) ^ int(\"\".join(r2), 2) & int('1111111111111111',2))\n",
    "b4 = '{:016b}'.format(int(bin(~(int(\"\".join(r4), 2) ^ int(\"\".join(k2), 2)) & int('1111111111111111',2)),2))\n",
    "b3 = '{:016b}'.format(int(\"\".join(f_fun([list(r4[0:4]), list(r4[4:8]), list(r4[8:12]), list(r4[12:16])])),2) ^ int(\"\".join(r3), 2) & int('1111111111111111',2))\n",
    "\n",
    "a1 = b2\n",
    "a2 = b1\n",
    "a3 = b4\n",
    "a4 = b3\n",
    "\n",
    "c1 = '{:016b}'.format(int(bin(~(int(\"\".join(a1), 2) ^ int(\"\".join(k1), 2)) & int('1111111111111111',2)),2))\n",
    "c3 = '{:016b}'.format(int(\"\".join(f_fun([list(a1[0:4]), list(a1[4:8]), list(a1[8:12]), list(a1[12:16])])),2) ^ int(\"\".join(a2), 2) & int('1111111111111111',2))\n",
    "c4 = '{:016b}'.format(int(bin(~(int(\"\".join(a4), 2) ^ int(\"\".join(k1), 2)) & int('1111111111111111',2)),2))\n",
    "c2 = '{:016b}'.format(int(\"\".join(f_fun([list(a4[0:4]), list(a4[4:8]), list(a4[8:12]), list(a4[12:16])])),2) ^ int(\"\".join(a3), 2) & int('1111111111111111',2))\n",
    "lst = [c1, c2, c3, c4]\n",
    "\n",
    "cipher = [j for i in lst for j in i]\n",
    "boo=\"\".join(cipher)"
   ]
  },
  {
   "cell_type": "code",
   "execution_count": 18,
   "metadata": {},
   "outputs": [
    {
     "data": {
      "text/plain": [
       "True"
      ]
     },
     "execution_count": 18,
     "metadata": {},
     "output_type": "execute_result"
    }
   ],
   "source": [
    "boo == \"\".join(message)"
   ]
  },
  {
   "cell_type": "code",
   "execution_count": 74,
   "metadata": {},
   "outputs": [
    {
     "data": {
      "text/plain": [
       "25982"
      ]
     },
     "execution_count": 74,
     "metadata": {},
     "output_type": "execute_result"
    }
   ],
   "source": [
    "int(bin(~(int(\"\".join(q1), 2) ^ int(\"\".join(k2), 2)) & int('1111111111111111',2)),2) ^ (int(\"\".join(k2), 2)) & int('1111111111111111',2)"
   ]
  },
  {
   "cell_type": "code",
   "execution_count": 75,
   "metadata": {},
   "outputs": [
    {
     "data": {
      "text/plain": [
       "32166"
      ]
     },
     "execution_count": 75,
     "metadata": {},
     "output_type": "execute_result"
    }
   ],
   "source": [
    "int(\"\".join(r1), 2)"
   ]
  },
  {
   "cell_type": "code",
   "execution_count": 11,
   "metadata": {},
   "outputs": [],
   "source": [
    "t1 = message[0:16]\n",
    "t2 = message[16:32]\n",
    "t3 = message[32:48]\n",
    "t4 = message[48:64]\n",
    "\n",
    "p1 = '{:016b}'.format(int(bin(~(int(\"\".join(t1), 2) ^ int(\"\".join(k1), 2)) & int('1111111111111111',2)),2))\n",
    "p2 = '{:016b}'.format(int(\"\".join(f_fun([list(p1[0:4]), list(p1[4:8]), list(p1[8:12]), list(p1[12:16])])),2) ^ int(\"\".join(t3), 2) & int('1111111111111111',2))\n",
    "p4 = '{:016b}'.format(int(bin(~(int(\"\".join(t4), 2) ^ int(\"\".join(k1), 2)) & int('1111111111111111',2)),2))\n",
    "p3 = '{:016b}'.format(int(\"\".join(f_fun([list(p4[0:4]), list(p4[4:8]), list(p4[8:12]), list(p4[12:16])])),2) ^ int(\"\".join(t2), 2) & int('1111111111111111',2))\n"
   ]
  },
  {
   "cell_type": "code",
   "execution_count": 12,
   "metadata": {},
   "outputs": [],
   "source": [
    "c1 = '{:016b}'.format(int(bin(~(int(\"\".join(p1), 2) ^ int(\"\".join(k1), 2)) & int('1111111111111111',2)),2))\n",
    "c3 = '{:016b}'.format(int(\"\".join(f_fun([list(p1[0:4]), list(p1[4:8]), list(p1[8:12]), list(p1[12:16])])),2) ^ int(\"\".join(p2), 2) & int('1111111111111111',2))\n",
    "c4 = '{:016b}'.format(int(bin(~(int(\"\".join(p4), 2) ^ int(\"\".join(k1), 2)) & int('1111111111111111',2)),2))\n",
    "c2 = '{:016b}'.format(int(\"\".join(f_fun([list(p4[0:4]), list(p4[4:8]), list(p4[8:12]), list(p4[12:16])])),2) ^ int(\"\".join(p3), 2) & int('1111111111111111',2))\n",
    "lst = [c1, c2, c3, c4]\n",
    "\n",
    "cipher = [j for i in lst for j in i]\n",
    "boo=\"\".join(cipher)"
   ]
  },
  {
   "cell_type": "code",
   "execution_count": 13,
   "metadata": {},
   "outputs": [
    {
     "data": {
      "text/plain": [
       "True"
      ]
     },
     "execution_count": 13,
     "metadata": {},
     "output_type": "execute_result"
    }
   ],
   "source": [
    "boo == \"\".join(message)"
   ]
  },
  {
   "cell_type": "code",
   "execution_count": 14,
   "metadata": {},
   "outputs": [
    {
     "data": {
      "text/plain": [
       "'0100001011000011111110111110101100000000111101001010000110100110'"
      ]
     },
     "execution_count": 14,
     "metadata": {},
     "output_type": "execute_result"
    }
   ],
   "source": [
    "boo"
   ]
  },
  {
   "cell_type": "code",
   "execution_count": 15,
   "metadata": {},
   "outputs": [
    {
     "data": {
      "text/plain": [
       "'0100001011000011111110111110101100000000111101001010000110100110'"
      ]
     },
     "execution_count": 15,
     "metadata": {},
     "output_type": "execute_result"
    }
   ],
   "source": [
    "\"\".join(message)"
   ]
  },
  {
   "cell_type": "code",
   "execution_count": null,
   "metadata": {},
   "outputs": [],
   "source": []
  }
 ],
 "metadata": {
  "kernelspec": {
   "display_name": "Python 3",
   "language": "python",
   "name": "python3"
  },
  "language_info": {
   "codemirror_mode": {
    "name": "ipython",
    "version": 3
   },
   "file_extension": ".py",
   "mimetype": "text/x-python",
   "name": "python",
   "nbconvert_exporter": "python",
   "pygments_lexer": "ipython3",
   "version": "3.7.7"
  }
 },
 "nbformat": 4,
 "nbformat_minor": 4
}
